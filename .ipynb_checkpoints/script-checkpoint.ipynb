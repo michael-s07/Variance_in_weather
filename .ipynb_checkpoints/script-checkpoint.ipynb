{
 "cells": [
  {
   "cell_type": "code",
   "execution_count": 1,
   "metadata": {},
   "outputs": [
    {
     "ename": "UnpicklingError",
     "evalue": "invalid load key, '\\xef'.",
     "output_type": "error",
     "traceback": [
      "\u001b[1;31m---------------------------------------------------------------------------\u001b[0m",
      "\u001b[1;31mUnpicklingError\u001b[0m                           Traceback (most recent call last)",
      "\u001b[1;32m<ipython-input-1-c8d6de9d7e7d>\u001b[0m in \u001b[0;36m<module>\u001b[1;34m\u001b[0m\n\u001b[0;32m      1\u001b[0m \u001b[1;32mimport\u001b[0m \u001b[0mpandas\u001b[0m \u001b[1;32mas\u001b[0m \u001b[0mpd\u001b[0m\u001b[1;33m\u001b[0m\u001b[1;33m\u001b[0m\u001b[0m\n\u001b[0;32m      2\u001b[0m \u001b[1;32mimport\u001b[0m \u001b[0mnumpy\u001b[0m \u001b[1;32mas\u001b[0m \u001b[0mnp\u001b[0m\u001b[1;33m\u001b[0m\u001b[1;33m\u001b[0m\u001b[0m\n\u001b[1;32m----> 3\u001b[1;33m \u001b[1;32mfrom\u001b[0m \u001b[0mweather_data\u001b[0m \u001b[1;32mimport\u001b[0m \u001b[0mlondon_data\u001b[0m\u001b[1;33m\u001b[0m\u001b[1;33m\u001b[0m\u001b[0m\n\u001b[0m\u001b[0;32m      4\u001b[0m \u001b[1;31m#print(london_data.head())\u001b[0m\u001b[1;33m\u001b[0m\u001b[1;33m\u001b[0m\u001b[1;33m\u001b[0m\u001b[0m\n\u001b[0;32m      5\u001b[0m \u001b[0mprint\u001b[0m\u001b[1;33m(\u001b[0m\u001b[0mlondon_data\u001b[0m\u001b[1;33m.\u001b[0m\u001b[0miloc\u001b[0m\u001b[1;33m[\u001b[0m\u001b[1;36m100\u001b[0m\u001b[1;33m:\u001b[0m\u001b[1;36m200\u001b[0m\u001b[1;33m]\u001b[0m\u001b[1;33m)\u001b[0m\u001b[1;33m\u001b[0m\u001b[1;33m\u001b[0m\u001b[0m\n",
      "\u001b[1;32m~\\Desktop\\Amalitech\\Variance_in_weather\\weather_data.py\u001b[0m in \u001b[0;36m<module>\u001b[1;34m\u001b[0m\n\u001b[0;32m      1\u001b[0m \u001b[1;32mimport\u001b[0m \u001b[0mpickle\u001b[0m\u001b[1;33m\u001b[0m\u001b[1;33m\u001b[0m\u001b[0m\n\u001b[0;32m      2\u001b[0m \u001b[1;33m\u001b[0m\u001b[0m\n\u001b[1;32m----> 3\u001b[1;33m \u001b[0mlondon_data\u001b[0m \u001b[1;33m=\u001b[0m \u001b[0mpickle\u001b[0m\u001b[1;33m.\u001b[0m\u001b[0mload\u001b[0m\u001b[1;33m(\u001b[0m \u001b[0mopen\u001b[0m\u001b[1;33m(\u001b[0m \u001b[1;34m\"weather.p\"\u001b[0m\u001b[1;33m,\u001b[0m \u001b[1;34m\"rb\"\u001b[0m \u001b[1;33m)\u001b[0m \u001b[1;33m)\u001b[0m\u001b[1;33m\u001b[0m\u001b[1;33m\u001b[0m\u001b[0m\n\u001b[0m",
      "\u001b[1;31mUnpicklingError\u001b[0m: invalid load key, '\\xef'."
     ]
    }
   ],
   "source": [
    "import pandas as pd\n",
    "import numpy as np\n",
    "from weather_data import london_data\n",
    "#print(london_data.head())\n",
    "print(london_data.iloc[100:200])\n",
    "print(len(london_data))\n",
    "temp=london_data.TemperatureC\n",
    "average_temp=temp.mean()\n",
    "# the variance of the temperature of the data\n",
    "temperature_var=np.var(temp)\n",
    "print(temperature_var)\n",
    "\n",
    "#The Standard Deviation of the Temperature\n",
    "temperature_standard_deviation=np.std(temp)\n",
    "print(temperature_standard_deviation)\n",
    "# the variance and standard deviation is the same, the only difference is the variance is the squares of the standard deviation.\n",
    "print(london_data.head()) \n",
    "june=london_data.loc[london_data['month']==6]['TemperatureC']\n",
    "july=london_data.loc[london_data['month']==7]['TemperatureC']\n",
    "print(\"The mean of the June: \"+ str(np.mean(june)))\n",
    "print(\"The mean of Jult is: \"+ str(np.mean(july)))\n",
    "print(\"The Standard deviation of June: \"+ str(np.std(june)))\n",
    "print(\"The Standard Deviation of July: \"+ str(np.std(july)))\n",
    "\n",
    "# Exploring all month mean and standard deviation \n",
    "for i in range(1,13):\n",
    "  month=london_data.loc[london_data['month']==i][\"TemperatureC\"]\n",
    "  print(\"The mean temperature in month \"+ str(i) + ' is '+ str(np.mean(np.mean(month))))\n",
    "  print(\"Standard deviation of temperature in month \"+str(i)+' is '+ str(np.std(month))+'\\n')\n",
    "\n",
    "for i in range(1,13):\n",
    "  month=london_data.loc[london_data['month']==i][\"Humidity\"]\n",
    "  print(\"The mean Humidity in month \"+ str(i) + ' is '+ str(np.mean(np.mean(month))))\n",
    "  print(\"Standard deviation of Humidity in month \"+str(i)+' is '+ str(np.std(month))+'\\n')\n"
   ]
  },
  {
   "cell_type": "code",
   "execution_count": null,
   "metadata": {},
   "outputs": [],
   "source": []
  }
 ],
 "metadata": {
  "kernelspec": {
   "display_name": "Python 3",
   "language": "python",
   "name": "python3"
  },
  "language_info": {
   "codemirror_mode": {
    "name": "ipython",
    "version": 3
   },
   "file_extension": ".py",
   "mimetype": "text/x-python",
   "name": "python",
   "nbconvert_exporter": "python",
   "pygments_lexer": "ipython3",
   "version": "3.7.4"
  }
 },
 "nbformat": 4,
 "nbformat_minor": 2
}
